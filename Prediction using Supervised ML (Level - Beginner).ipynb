{
 "cells": [
  {
   "cell_type": "markdown",
   "id": "c9b6f459",
   "metadata": {},
   "source": [
    "# Students Scores Prediction\n",
    "Predicting the percentage of an student based on the no. of study hours using a simple linear regressor."
   ]
  },
  {
   "cell_type": "markdown",
   "id": "ea92b476",
   "metadata": {},
   "source": [
    "### Data Importing\n",
    "First, we need to import our data to our environment using read_csv() method from pandas library."
   ]
  },
  {
   "cell_type": "code",
   "execution_count": 1,
   "id": "f5ed18d7",
   "metadata": {},
   "outputs": [
    {
     "name": "stdout",
     "output_type": "stream",
     "text": [
      "Data imported successfully!\n"
     ]
    }
   ],
   "source": [
    "# import pandas under alias pd\n",
    "import pandas as pd\n",
    "\n",
    "# read our csv_file in 'data' using read_csv(), passing it the path of our file : data\n",
    "student_scores = pd.read_csv('https://raw.githubusercontent.com/AdiPersonalWorks/Random/master/student_scores%20-%20student_scores.csv')\n",
    "print('Data imported successfully!')"
   ]
  },
  {
   "cell_type": "markdown",
   "id": "6153f11d",
   "metadata": {},
   "source": [
    "### Data Exploration\n",
    "We need to know more information about our dataset, so we use .head() and .info() methods of pandas object 'data'."
   ]
  },
  {
   "cell_type": "code",
   "execution_count": 2,
   "id": "1f49f918",
   "metadata": {},
   "outputs": [
    {
     "data": {
      "text/html": [
       "<div>\n",
       "<style scoped>\n",
       "    .dataframe tbody tr th:only-of-type {\n",
       "        vertical-align: middle;\n",
       "    }\n",
       "\n",
       "    .dataframe tbody tr th {\n",
       "        vertical-align: top;\n",
       "    }\n",
       "\n",
       "    .dataframe thead th {\n",
       "        text-align: right;\n",
       "    }\n",
       "</style>\n",
       "<table border=\"1\" class=\"dataframe\">\n",
       "  <thead>\n",
       "    <tr style=\"text-align: right;\">\n",
       "      <th></th>\n",
       "      <th>Hours</th>\n",
       "      <th>Scores</th>\n",
       "    </tr>\n",
       "  </thead>\n",
       "  <tbody>\n",
       "    <tr>\n",
       "      <th>0</th>\n",
       "      <td>2.5</td>\n",
       "      <td>21</td>\n",
       "    </tr>\n",
       "    <tr>\n",
       "      <th>1</th>\n",
       "      <td>5.1</td>\n",
       "      <td>47</td>\n",
       "    </tr>\n",
       "    <tr>\n",
       "      <th>2</th>\n",
       "      <td>3.2</td>\n",
       "      <td>27</td>\n",
       "    </tr>\n",
       "    <tr>\n",
       "      <th>3</th>\n",
       "      <td>8.5</td>\n",
       "      <td>75</td>\n",
       "    </tr>\n",
       "    <tr>\n",
       "      <th>4</th>\n",
       "      <td>3.5</td>\n",
       "      <td>30</td>\n",
       "    </tr>\n",
       "  </tbody>\n",
       "</table>\n",
       "</div>"
      ],
      "text/plain": [
       "   Hours  Scores\n",
       "0    2.5      21\n",
       "1    5.1      47\n",
       "2    3.2      27\n",
       "3    8.5      75\n",
       "4    3.5      30"
      ]
     },
     "execution_count": 2,
     "metadata": {},
     "output_type": "execute_result"
    }
   ],
   "source": [
    "# view our first data observations\n",
    "student_scores.head()"
   ]
  },
  {
   "cell_type": "code",
   "execution_count": 3,
   "id": "8a2a9049",
   "metadata": {},
   "outputs": [
    {
     "name": "stdout",
     "output_type": "stream",
     "text": [
      "<class 'pandas.core.frame.DataFrame'>\n",
      "RangeIndex: 25 entries, 0 to 24\n",
      "Data columns (total 2 columns):\n",
      " #   Column  Non-Null Count  Dtype  \n",
      "---  ------  --------------  -----  \n",
      " 0   Hours   25 non-null     float64\n",
      " 1   Scores  25 non-null     int64  \n",
      "dtypes: float64(1), int64(1)\n",
      "memory usage: 528.0 bytes\n"
     ]
    }
   ],
   "source": [
    "# view meta-data about our dataset\n",
    "student_scores.info()"
   ]
  },
  {
   "cell_type": "markdown",
   "id": "f38fc0f0",
   "metadata": {},
   "source": [
    "### Quantitative EDA (Descriptive Statistics)\n",
    "We need some of statistics representing our dataset (statistics describe our dataset)."
   ]
  },
  {
   "cell_type": "code",
   "execution_count": 4,
   "id": "04db08cf",
   "metadata": {},
   "outputs": [
    {
     "data": {
      "text/html": [
       "<div>\n",
       "<style scoped>\n",
       "    .dataframe tbody tr th:only-of-type {\n",
       "        vertical-align: middle;\n",
       "    }\n",
       "\n",
       "    .dataframe tbody tr th {\n",
       "        vertical-align: top;\n",
       "    }\n",
       "\n",
       "    .dataframe thead th {\n",
       "        text-align: right;\n",
       "    }\n",
       "</style>\n",
       "<table border=\"1\" class=\"dataframe\">\n",
       "  <thead>\n",
       "    <tr style=\"text-align: right;\">\n",
       "      <th></th>\n",
       "      <th>Hours</th>\n",
       "      <th>Scores</th>\n",
       "    </tr>\n",
       "  </thead>\n",
       "  <tbody>\n",
       "    <tr>\n",
       "      <th>count</th>\n",
       "      <td>25.000000</td>\n",
       "      <td>25.000000</td>\n",
       "    </tr>\n",
       "    <tr>\n",
       "      <th>mean</th>\n",
       "      <td>5.012000</td>\n",
       "      <td>51.480000</td>\n",
       "    </tr>\n",
       "    <tr>\n",
       "      <th>std</th>\n",
       "      <td>2.525094</td>\n",
       "      <td>25.286887</td>\n",
       "    </tr>\n",
       "    <tr>\n",
       "      <th>min</th>\n",
       "      <td>1.100000</td>\n",
       "      <td>17.000000</td>\n",
       "    </tr>\n",
       "    <tr>\n",
       "      <th>25%</th>\n",
       "      <td>2.700000</td>\n",
       "      <td>30.000000</td>\n",
       "    </tr>\n",
       "    <tr>\n",
       "      <th>50%</th>\n",
       "      <td>4.800000</td>\n",
       "      <td>47.000000</td>\n",
       "    </tr>\n",
       "    <tr>\n",
       "      <th>75%</th>\n",
       "      <td>7.400000</td>\n",
       "      <td>75.000000</td>\n",
       "    </tr>\n",
       "    <tr>\n",
       "      <th>max</th>\n",
       "      <td>9.200000</td>\n",
       "      <td>95.000000</td>\n",
       "    </tr>\n",
       "  </tbody>\n",
       "</table>\n",
       "</div>"
      ],
      "text/plain": [
       "           Hours     Scores\n",
       "count  25.000000  25.000000\n",
       "mean    5.012000  51.480000\n",
       "std     2.525094  25.286887\n",
       "min     1.100000  17.000000\n",
       "25%     2.700000  30.000000\n",
       "50%     4.800000  47.000000\n",
       "75%     7.400000  75.000000\n",
       "max     9.200000  95.000000"
      ]
     },
     "execution_count": 4,
     "metadata": {},
     "output_type": "execute_result"
    }
   ],
   "source": [
    "student_scores.describe()"
   ]
  },
  {
   "cell_type": "markdown",
   "id": "a5a57b03",
   "metadata": {
    "scrolled": true
   },
   "source": [
    "There is another statistic describes the correlation between 2 variables called 'Pearson's R', we can see our correlation matrix between all variables in our pandas DataFrame by using .corr() method on our pandas DataFrame object (student_scores)."
   ]
  },
  {
   "cell_type": "code",
   "execution_count": 5,
   "id": "337f3728",
   "metadata": {
    "scrolled": true
   },
   "outputs": [
    {
     "data": {
      "text/html": [
       "<div>\n",
       "<style scoped>\n",
       "    .dataframe tbody tr th:only-of-type {\n",
       "        vertical-align: middle;\n",
       "    }\n",
       "\n",
       "    .dataframe tbody tr th {\n",
       "        vertical-align: top;\n",
       "    }\n",
       "\n",
       "    .dataframe thead th {\n",
       "        text-align: right;\n",
       "    }\n",
       "</style>\n",
       "<table border=\"1\" class=\"dataframe\">\n",
       "  <thead>\n",
       "    <tr style=\"text-align: right;\">\n",
       "      <th></th>\n",
       "      <th>Hours</th>\n",
       "      <th>Scores</th>\n",
       "    </tr>\n",
       "  </thead>\n",
       "  <tbody>\n",
       "    <tr>\n",
       "      <th>Hours</th>\n",
       "      <td>1.000000</td>\n",
       "      <td>0.976191</td>\n",
       "    </tr>\n",
       "    <tr>\n",
       "      <th>Scores</th>\n",
       "      <td>0.976191</td>\n",
       "      <td>1.000000</td>\n",
       "    </tr>\n",
       "  </tbody>\n",
       "</table>\n",
       "</div>"
      ],
      "text/plain": [
       "           Hours    Scores\n",
       "Hours   1.000000  0.976191\n",
       "Scores  0.976191  1.000000"
      ]
     },
     "execution_count": 5,
     "metadata": {},
     "output_type": "execute_result"
    }
   ],
   "source": [
    "# view correlation between student_scores variables\n",
    "student_scores.corr()"
   ]
  },
  {
   "cell_type": "markdown",
   "id": "c16869b2",
   "metadata": {},
   "source": [
    "#### We can see that there is 'High Positive Correlation' between the two variables in our dataset 'Hours' and 'Scores' (0.976), so we can predict each variable by the other. \n",
    "#### NOTE: \"Correlation not mean Causation\"."
   ]
  },
  {
   "cell_type": "markdown",
   "id": "daf60f6d",
   "metadata": {},
   "source": [
    "### Graphical EDA\n",
    "We need now to see visually our data points with our only feature variable on the x-axis and our target variable on the y-axis."
   ]
  },
  {
   "cell_type": "code",
   "execution_count": 6,
   "id": "f787f8c0",
   "metadata": {
    "scrolled": true
   },
   "outputs": [
    {
     "data": {
      "image/png": "[encoded data removed]",
      "text/plain": [
       "<Figure size 432x288 with 1 Axes>"
      ]
     },
     "metadata": {
      "needs_background": "light"
     },
     "output_type": "display_data"
    }
   ],
   "source": [
    "# import our helpful libraries uder aliases plt for pyplot, and sns for seaborn\n",
    "import matplotlib.pyplot as plt\n",
    "import seaborn as sns\n",
    "\n",
    "# plotting scatter plot using seaborn and setting up our plot title\n",
    "sns.scatterplot(x='Hours', y='Scores', data=student_scores)\n",
    "plt.title('Students Studying Hours vs Students Scores')\n",
    "plt.show()"
   ]
  },
  {
   "cell_type": "markdown",
   "id": "42dbe7c7",
   "metadata": {},
   "source": [
    "So, we can see here from the value of R-correlation _which catching the linear relationships between 2 variables_ and from visuals that there is a strong linear relationship between the 2 variables and we can use Linear Regression to find the formula that best describe that relation."
   ]
  },
  {
   "cell_type": "markdown",
   "id": "cd560089",
   "metadata": {},
   "source": [
    "### Data Modeling using Linear Regression\n",
    "We will use a simple linear regression model to train on our dataset so can find the best fit model (formula).\n",
    "We need first to split our data to training set and validation set, so we can measure our model performance on data unseen before, then we can training the model on our training data, finally measure our score."
   ]
  },
  {
   "cell_type": "code",
   "execution_count": 7,
   "id": "b415218f",
   "metadata": {},
   "outputs": [
    {
     "name": "stdout",
     "output_type": "stream",
     "text": [
      "Training Complete!\n"
     ]
    }
   ],
   "source": [
    "# import our train_test_split function from sklearn.model_selection\n",
    "from sklearn.model_selection import train_test_split\n",
    "\n",
    "# Data Preparing\n",
    "X = pd.DataFrame(student_scores.Hours)\n",
    "y = pd.DataFrame(student_scores.Scores)\n",
    "\n",
    "# split our dataset into training data and validation data\n",
    "X_train, X_test, y_train, y_test = train_test_split(X, y, test_size=0.25, random_state=0)\n",
    "\n",
    "# Model building\n",
    "from sklearn.linear_model import LinearRegression\n",
    "regressor = LinearRegression()\n",
    "\n",
    "# Model Training\n",
    "regressor.fit(X_train, y_train)\n",
    "print('Training Complete!')"
   ]
  },
  {
   "cell_type": "markdown",
   "id": "a139f3e2",
   "metadata": {},
   "source": [
    "#### We can plot now our regression line which best fit our data."
   ]
  },
  {
   "cell_type": "code",
   "execution_count": 8,
   "id": "d212f15b",
   "metadata": {},
   "outputs": [
    {
     "data": {
      "image/png": "[encoded data removed]",
      "text/plain": [
       "<Figure size 432x288 with 1 Axes>"
      ]
     },
     "metadata": {
      "needs_background": "light"
     },
     "output_type": "display_data"
    }
   ],
   "source": [
    "# Plotting the regression line\n",
    "slope = regressor.coef_\n",
    "y_intercept = regressor.intercept_\n",
    "linear_equation = slope * X + y_intercept\n",
    "\n",
    "# Plotting for the training & test data\n",
    "plt.scatter(X, y)\n",
    "plt.plot(X, linear_equation);\n",
    "plt.show()"
   ]
  },
  {
   "cell_type": "markdown",
   "id": "e4fd2baa",
   "metadata": {},
   "source": [
    "### Making Predictions\n",
    "Now that we have trained our algorithm, it's time to make some predictions on our testing data."
   ]
  },
  {
   "cell_type": "code",
   "execution_count": 9,
   "id": "87e0ceaa",
   "metadata": {},
   "outputs": [
    {
     "data": {
      "text/html": [
       "<div>\n",
       "<style scoped>\n",
       "    .dataframe tbody tr th:only-of-type {\n",
       "        vertical-align: middle;\n",
       "    }\n",
       "\n",
       "    .dataframe tbody tr th {\n",
       "        vertical-align: top;\n",
       "    }\n",
       "\n",
       "    .dataframe thead th {\n",
       "        text-align: right;\n",
       "    }\n",
       "</style>\n",
       "<table border=\"1\" class=\"dataframe\">\n",
       "  <thead>\n",
       "    <tr style=\"text-align: right;\">\n",
       "      <th></th>\n",
       "      <th>Predicted</th>\n",
       "      <th>Actual</th>\n",
       "    </tr>\n",
       "  </thead>\n",
       "  <tbody>\n",
       "    <tr>\n",
       "      <th>0</th>\n",
       "      <td>[16.84472176238379]</td>\n",
       "      <td>[20]</td>\n",
       "    </tr>\n",
       "    <tr>\n",
       "      <th>1</th>\n",
       "      <td>[33.74557493951355]</td>\n",
       "      <td>[27]</td>\n",
       "    </tr>\n",
       "    <tr>\n",
       "      <th>2</th>\n",
       "      <td>[75.50062396536356]</td>\n",
       "      <td>[69]</td>\n",
       "    </tr>\n",
       "    <tr>\n",
       "      <th>3</th>\n",
       "      <td>[26.786400101871884]</td>\n",
       "      <td>[30]</td>\n",
       "    </tr>\n",
       "    <tr>\n",
       "      <th>4</th>\n",
       "      <td>[60.58810645613141]</td>\n",
       "      <td>[62]</td>\n",
       "    </tr>\n",
       "    <tr>\n",
       "      <th>5</th>\n",
       "      <td>[39.71058194320641]</td>\n",
       "      <td>[35]</td>\n",
       "    </tr>\n",
       "    <tr>\n",
       "      <th>6</th>\n",
       "      <td>[20.821393098179026]</td>\n",
       "      <td>[24]</td>\n",
       "    </tr>\n",
       "  </tbody>\n",
       "</table>\n",
       "</div>"
      ],
      "text/plain": [
       "              Predicted Actual\n",
       "0   [16.84472176238379]   [20]\n",
       "1   [33.74557493951355]   [27]\n",
       "2   [75.50062396536356]   [69]\n",
       "3  [26.786400101871884]   [30]\n",
       "4   [60.58810645613141]   [62]\n",
       "5   [39.71058194320641]   [35]\n",
       "6  [20.821393098179026]   [24]"
      ]
     },
     "execution_count": 9,
     "metadata": {},
     "output_type": "execute_result"
    }
   ],
   "source": [
    "# Model Predictions on validation set\n",
    "preds = regressor.predict(X_test)\n",
    "pd.DataFrame({'Predicted': [x for x in preds], 'Actual': [y for y in y_test.values]})"
   ]
  },
  {
   "cell_type": "markdown",
   "id": "95a88526",
   "metadata": {},
   "source": [
    "### Model Evaluation\n",
    "After we using our model for prediction, Let's validate our model with the 'mean absolute error' MAE metric to measure our model performance."
   ]
  },
  {
   "cell_type": "code",
   "execution_count": 10,
   "id": "26f13999",
   "metadata": {},
   "outputs": [
    {
     "name": "stdout",
     "output_type": "stream",
     "text": [
      "MAE: 4.130879918502486\n"
     ]
    }
   ],
   "source": [
    "# Model performance measuring by using mean absolute error (MAE) metric\n",
    "from sklearn.metrics import mean_absolute_error\n",
    "\n",
    "print('MAE:', mean_absolute_error(y_test, preds))"
   ]
  },
  {
   "cell_type": "markdown",
   "id": "f705a71b",
   "metadata": {},
   "source": [
    "we can use our .score() method of model, it uses R-Squared metric as default."
   ]
  },
  {
   "cell_type": "code",
   "execution_count": 11,
   "id": "4f9f19a9",
   "metadata": {},
   "outputs": [
    {
     "name": "stdout",
     "output_type": "stream",
     "text": [
      "R2: 0.9367661043365055\n"
     ]
    }
   ],
   "source": [
    "print('R2:', regressor.score(X_test, y_test))"
   ]
  },
  {
   "cell_type": "markdown",
   "id": "2995ac87",
   "metadata": {},
   "source": [
    "### What will be predicted score if a student studies for 9.25 hrs/day?"
   ]
  },
  {
   "cell_type": "code",
   "execution_count": 12,
   "id": "c2db49a9",
   "metadata": {},
   "outputs": [
    {
     "name": "stdout",
     "output_type": "stream",
     "text": [
      "Predicted score for student studies for 9.25 hrs/day =  [[93.89272889]]\n"
     ]
    }
   ],
   "source": [
    "print('Predicted score for student studies for 9.25 hrs/day = ', regressor.predict([[9.25]]))"
   ]
  }
 ],
 "metadata": {
  "kernelspec": {
   "display_name": "Python 3 (ipykernel)",
   "language": "python",
   "name": "python3"
  },
  "language_info": {
   "codemirror_mode": {
    "name": "ipython",
    "version": 3
   },
   "file_extension": ".py",
   "mimetype": "text/x-python",
   "name": "python",
   "nbconvert_exporter": "python",
   "pygments_lexer": "ipython3",
   "version": "3.9.7"
  }
 },
 "nbformat": 4,
 "nbformat_minor": 5
}
